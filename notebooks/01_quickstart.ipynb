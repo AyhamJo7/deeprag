{
 "cells": [
  {
   "cell_type": "markdown",
   "metadata": {},
   "source": [
    "# DeepRAG Quickstart\n",
    "\n",
    "This notebook provides a minimal, runnable example of the core components of DeepRAG: the DSI and the Agent."
   ]
  },
  {
   "cell_type": "markdown",
   "metadata": {},
   "source": [
    "## 1. Setup"
   ]
  },
  {
   "cell_type": "code",
   "execution_count": 1,
   "metadata": {},
   "outputs": [],
   "source": [
    "# Make sure you have installed the necessary dependencies\n",
    "# !pip install -e \".[dev,viz]\"\n"
   ]
  },
  {
   "cell_type": "code",
   "execution_count": 2,
   "metadata": {},
   "outputs": [],
   "source": [
    "from hydra import compose, initialize\n",
    "\n",
    "from deprag.configs.config import register_configs\n",
    "from deprag.models.dsi import DSI\n",
    "from deprag.models.agent import DeepRAGAgent\n",
    "from deprag.data.docstore import DocumentStore"
   ]
  },
  {
   "cell_type": "markdown",
   "metadata": {},
   "source": [
    "## 2. Load Configuration\n",
    "\n",
    "We use Hydra to manage our configurations. We can load the default config and override parts of it easily."
   ]
  },
  {
   "cell_type": "code",
   "execution_count": 3,
   "metadata": {},
   "outputs": [],
   "source": [
    "register_configs()\n",
    "with initialize(config_path=\"../deprag/configs\", version_base=\"1.3\"):\n",
    "    cfg = compose(config_name=\"defaults\", overrides=[\"data=synthetic\", \"model=dsi_small\", \"device=cpu\"])"
   ]
  },
  {
   "cell_type": "markdown",
   "metadata": {},
   "source": [
    "## 3. Initialize Components"
   ]
  },
  {
   "cell_type": "markdown",
   "metadata": {},
   "source": [
    "### Document Store\n",
    "The `DocumentStore` holds the corpus of documents that the DSI will learn to retrieve from."
   ]
  },
  {
   "cell_type": "code",
   "execution_count": 4,
   "metadata": {},
   "outputs": [],
   "source": [
    "# First, make sure the synthetic docstore exists\n",
    "# !python cli.py prepare-data --config-name=data/synthetic\n",
    "\n",
    "doc_store = DocumentStore(cfg.data.doc_store_path)\n",
    "print(f\"Loaded document store with {len(doc_store)} documents.\")\n",
    "print(\"Sample document ID:\", doc_store.doc_ids[0])\n",
    "print(\"Sample document text:\", doc_store.get_document(doc_store.doc_ids[0]))"
   ]
  },
  {
   "cell_type": "markdown",
   "metadata": {},
   "source": [
    "### DSI Model\n",
    "The DSI model learns to map queries to document IDs."
   ]
  },
  {
   "cell_type": "code",
   "execution_count": 5,
   "metadata": {},
   "outputs": [],
   "source": [
    "dsi_model = DSI(cfg.model)\n",
    "print(\"DSI model loaded (T5-small).\")"
   ]
  },
  {
   "cell_type": "markdown",
   "metadata": {},
   "source": [
    "### Agent Model\n",
    "The Agent model learns to generate answers and decide when to retrieve."
   ]
  },
  {
   "cell_type": "code",
   "execution_count": 6,
   "metadata": {},
   "outputs": [],
   "source": [
    "# We need to switch to the agent config\n",
    "with initialize(config_path=\"../deprag/configs\", version_base=\"1.3\"):\n",
    "    agent_cfg = compose(config_name=\"defaults\", overrides=[\"model=agent_small\", \"device=cpu\"])\n",
    "\n",
    "agent_model = DeepRAGAgent(agent_cfg.model)\n",
    "print(\"Agent model loaded (T5-small with value head).\")"
   ]
  },
  {
   "cell_type": "markdown",
   "metadata": {},
   "source": [
    "## 4. Basic Inference\n",
    "\n",
    "Let's see what the untrained models do."
   ]
  },
  {
   "cell_type": "markdown",
   "metadata": {},
   "source": [
    "### DSI Retrieval\n",
    "The DSI will generate document IDs. Since it's not trained, they will be nonsensical."
   ]
  },
  {
   "cell_type": "code",
   "execution_count": 7,
   "metadata": {},
   "outputs": [],
   "source": [
    "query = \"What is the capital of Canada?\"\n",
    "retrieved_docs = dsi_model.retrieve([query])\n",
    "\n",
    "print(f\"Query: {query}\")\n",
    "print(f\"Top-{cfg.model.top_k} retrieved doc IDs (untrained):\")\n",
    "for i, doc_id in enumerate(retrieved_docs[0]):\n",
    "    print(f\"{i+1}: {doc_id}\")"
   ]
  },
  {
   "cell_type": "markdown",
   "metadata": {},
   "source": [
    "### Agent Generation\n",
    "The agent will generate an answer. It also won't be very good yet."
   ]
  },
  {
   "cell_type": "code",
   "execution_count": 8,
   "metadata": {},
   "outputs": [],
   "source": [
    "input_ids = dsi_model.tokenizer(query, return_tensors=\"pt\").input_ids\n",
    "\n",
    "# Generate a response\n",
    "# Note: We are using the DSI tokenizer here just for convenience.\n",
    "# A production setup would use the agent's tokenizer.\n",
    "outputs = agent_model.model.generate(input_ids, max_length=20)\n",
    "response = dsi_model.tokenizer.decode(outputs[0], skip_special_tokens=True)\n",
    "\n",
    "print(f\"Query: {query}\")\n",
    "print(f\"Generated response (untrained): {response}\")"
   ]
  },
  {
   "cell_type": "markdown",
   "metadata": {},
   "source": [
    "## 5. Next Steps\n",
    "\n",
    "This notebook showed how to load the core components. To make them useful, you need to train them.\n",
    "\n",
    "- **To train the DSI**, run `python cli.py train-dsi`.\n",
    "- **To train the Agent**, run `python cli.py train-agent`.\n",
    "\n",
    "See the `02_training_walkthrough.ipynb` for more details."
   ]
  }
 ],
 "metadata": {
  "kernelspec": {
   "display_name": "Python 3",
   "language": "python",
   "name": "python3"
  },
  "language_info": {
   "codemirror_mode": {
    "name": "ipython",
    "version": 3
   },
   "file_extension": ".py",
   "mimetype": "text/x-python",
   "name": "python",
   "nbconvert_exporter": "python",
   "pygments_lexer": "ipython3",
   "version": "3.11.0"
  }
 },
 "nbformat": 4,
 "nbformat_minor": 4
}